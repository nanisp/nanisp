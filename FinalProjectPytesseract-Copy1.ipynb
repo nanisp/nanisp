import pytesseract as tess
import os.path
from os import path
import cv2
import os
from gtts import gTTS
from PIL import Image
inp_path="C:\\Users\\K\\Desktop\\quoteip3.png"
out_path="C:\\Users\\K\\Desktop\speech\\ocr.mp3"
def OCR(inp_path,out_path):
    img = Image.open(inp_path)
    textt = tess.image_to_string(img)
    tess.pytesseract.tesseract_cmd = r'C:\\Program Files\\Tesseract-OCR\\tesseract.exe'
    imagee = cv2.imread(inp_path)
    mytex = textt
    language = 'en'
    myobj = gTTS(text=mytex, lang=language, slow=False)
    print(textt)
    myobj.save(out_path)
    os.system(out_path)
    try:
        if(path.exists(inp_path) and path.exists(out_path)):
            return True
        else:
            return False
    except(e):
        return False
    
        
        
if(OCR(inp_path,out_path)==True):
    print(True)
